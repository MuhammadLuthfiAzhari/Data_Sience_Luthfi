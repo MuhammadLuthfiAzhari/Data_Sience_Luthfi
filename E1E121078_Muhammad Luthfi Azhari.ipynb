{
 "cells": [
  {
   "cell_type": "markdown",
   "id": "3f4b663c",
   "metadata": {},
   "source": [
    "# Week 1 Review Exercises\n"
   ]
  },
  {
   "cell_type": "markdown",
   "id": "ada58c46",
   "metadata": {},
   "source": [
    "Q1. Data Types\n",
    "\n",
    "What is the data type of the variable `pop`?"
   ]
  },
  {
   "cell_type": "code",
   "execution_count": 122,
   "id": "563c66fd",
   "metadata": {},
   "outputs": [],
   "source": [
    "pop = 5.8\n"
   ]
  },
  {
   "cell_type": "code",
   "execution_count": 123,
   "id": "caf77385",
   "metadata": {},
   "outputs": [
    {
     "name": "stdout",
     "output_type": "stream",
     "text": [
      "5.8\n",
      "tipenya adalah <class 'float'>\n"
     ]
    }
   ],
   "source": [
    "# use a suitable function to check your answer\n",
    "pop = 5.8\n",
    "\n",
    "print(pop)\n",
    "\n",
    "print(\"tipenya adalah\", type(pop) )"
   ]
  },
  {
   "cell_type": "markdown",
   "id": "b19b8600",
   "metadata": {},
   "source": [
    "Q2. Which of the following is a valid variable name of of population below 15 years old?\n"
   ]
  },
  {
   "cell_type": "code",
   "execution_count": 124,
   "id": "fa3e5e24",
   "metadata": {},
   "outputs": [
    {
     "ename": "SyntaxError",
     "evalue": "invalid decimal literal (3937164387.py, line 2)",
     "output_type": "error",
     "traceback": [
      "\u001b[1;36m  Cell \u001b[1;32mIn[124], line 2\u001b[1;36m\u001b[0m\n\u001b[1;33m    15_years_and_below = 12.33\u001b[0m\n\u001b[1;37m      ^\u001b[0m\n\u001b[1;31mSyntaxError\u001b[0m\u001b[1;31m:\u001b[0m invalid decimal literal\n"
     ]
    }
   ],
   "source": [
    "# which line won't give an error? Comment out the ones that do!\n",
    "15_years_and_below = 12.33\n",
    "%_pop_15_below = 12.33\n",
    "_15&below_pop = 12.33\n",
    "# _15_below_pop = 12.33\n",
    "\n",
    "# karna dalam inisiasinya tidak ada operator perhitungan dan insiasi tidak boleh angka terlebih dahulu\n",
    "\n"
   ]
  },
  {
   "cell_type": "markdown",
   "id": "6227288b",
   "metadata": {},
   "source": [
    "Q3. What will be stored in `result`?"
   ]
  },
  {
   "cell_type": "code",
   "execution_count": 125,
   "id": "5e4cfdfd",
   "metadata": {},
   "outputs": [
    {
     "name": "stdout",
     "output_type": "stream",
     "text": [
      "17\n"
     ]
    }
   ],
   "source": [
    "result = 3 + 4 ** 2 - (5 // 2)\n",
    "\n",
    "# 3 + 4 ** 2 - 2 \n",
    "# 3 + 16 - 2\n",
    "# 17\n",
    "# catatan \"**\" merupakan pangkat dan \" // \" merupakan pembagian kebawah/pembagian yang dibulatkan kebawah\n",
    "\n",
    "print(result)\n"
   ]
  },
  {
   "cell_type": "markdown",
   "id": "4b2b1ba6",
   "metadata": {},
   "source": [
    "Q4. If Singapore has an estimated population of 5.85 million and the land area is 700 square kilometers, what is the population density (number of people per KM)? \n"
   ]
  },
  {
   "cell_type": "code",
   "execution_count": 126,
   "id": "3b3dd8d9",
   "metadata": {},
   "outputs": [
    {
     "name": "stdout",
     "output_type": "stream",
     "text": [
      "Jadi kepadatan penduduk di singapura per KM ialah :  8357.0 km^2\n"
     ]
    }
   ],
   "source": [
    "# Estimated total Population of Singapore, in millions\n",
    "total_pop_millions = 5.85\n",
    "\n",
    "# Total land area, in KM\n",
    "land_area = 700\n",
    "\n",
    "# How many people are there per KM?\n",
    "# Answer\n",
    "# Kepadatan Penduduk = Jumlah Penduduk / Luas Wilayah\n",
    "# Kepadatan Penduduk = 5.850.000 / 700\n",
    "\n",
    "print(\"Jadi kepadatan penduduk di singapura per KM ialah : \", (total_pop_millions * 1000000) // land_area , \"km^2\" )\n"
   ]
  },
  {
   "cell_type": "markdown",
   "id": "8a8b4f48",
   "metadata": {},
   "source": [
    "Q5. Write a function called `pop_density()` that receives two arguments:\n",
    "1. the population, recorded in millions, `population_mil`\n",
    "2. the land area, in square kilometres, `land_area_sqkm`\n",
    "\n",
    "The function should calculate and return the population density. \n"
   ]
  },
  {
   "cell_type": "code",
   "execution_count": 127,
   "id": "cec3ad43",
   "metadata": {},
   "outputs": [],
   "source": [
    "\n",
    "def pop_density(population_mil, land_area_sqkm):\n",
    "    density = population_mil * 1000000 / land_area_sqkm\n",
    "    return density\n",
    "\n"
   ]
  },
  {
   "cell_type": "markdown",
   "id": "9c7711c8",
   "metadata": {},
   "source": [
    "Q6. Call the function you have written to calculate and display the population density of Hong Kong: 7.50 million people in a land area of 1050 km squared \n"
   ]
  },
  {
   "cell_type": "code",
   "execution_count": 128,
   "id": "a2b27625",
   "metadata": {},
   "outputs": [
    {
     "data": {
      "text/plain": [
       "7142.857142857143"
      ]
     },
     "execution_count": 128,
     "metadata": {},
     "output_type": "execute_result"
    }
   ],
   "source": [
    " pop_density(7.50, 1050 )"
   ]
  },
  {
   "cell_type": "markdown",
   "id": "43cbdd91",
   "metadata": {},
   "source": [
    "Q7. Using the `pop_density()` function, calculate the population density of Singapore and then use comparison operators to compare the population densities of Singapore and Hong Kong.\n",
    "\n",
    "Singapore's population: 5.85 million\n",
    "Singapore's land area: 700 sq km\n",
    "\n",
    "(Data From [Worldometers](http://worldometers.info))\n"
   ]
  },
  {
   "cell_type": "code",
   "execution_count": 129,
   "id": "626d47c8",
   "metadata": {},
   "outputs": [
    {
     "name": "stdout",
     "output_type": "stream",
     "text": [
      "diketahui : populasi singapura 5850000.0 juta dan luas daerah  700 km^2\n",
      "8357.142857142857\n"
     ]
    },
    {
     "ename": "KeyboardInterrupt",
     "evalue": "Interrupted by user",
     "output_type": "error",
     "traceback": [
      "\u001b[1;31m---------------------------------------------------------------------------\u001b[0m",
      "\u001b[1;31mKeyboardInterrupt\u001b[0m                         Traceback (most recent call last)",
      "Cell \u001b[1;32mIn[129], line 14\u001b[0m\n\u001b[0;32m      8\u001b[0m density_s \u001b[38;5;241m=\u001b[39m singapore_populasi \u001b[38;5;241m*\u001b[39m \u001b[38;5;241m1000000\u001b[39m \u001b[38;5;241m/\u001b[39m singapore_area\n\u001b[0;32m     10\u001b[0m \u001b[38;5;28mprint\u001b[39m(density_s)\n\u001b[1;32m---> 14\u001b[0m pop_hongkong \u001b[38;5;241m=\u001b[39m \u001b[38;5;28mfloat\u001b[39m(\u001b[38;5;28;43minput\u001b[39;49m\u001b[43m(\u001b[49m\u001b[38;5;124;43m\"\u001b[39;49m\u001b[38;5;124;43mMasukkan jumlah populasi masyarakat Hong Kong: \u001b[39;49m\u001b[38;5;124;43m\"\u001b[39;49m\u001b[43m)\u001b[49m)\n\u001b[0;32m     15\u001b[0m area_hongkong \u001b[38;5;241m=\u001b[39m \u001b[38;5;28mfloat\u001b[39m(\u001b[38;5;28minput\u001b[39m(\u001b[38;5;124m\"\u001b[39m\u001b[38;5;124mMasukkan jumlah luas area Hong Kong (KM^2): \u001b[39m\u001b[38;5;124m\"\u001b[39m))\n\u001b[0;32m     17\u001b[0m \u001b[38;5;28;01mdef\u001b[39;00m \u001b[38;5;21mdensity_hongkong\u001b[39m(pop_hongkong, area_hongkong):\n",
      "File \u001b[1;32m~\\anaconda3\\lib\\site-packages\\ipykernel\\kernelbase.py:1175\u001b[0m, in \u001b[0;36mKernel.raw_input\u001b[1;34m(self, prompt)\u001b[0m\n\u001b[0;32m   1171\u001b[0m \u001b[38;5;28;01mif\u001b[39;00m \u001b[38;5;129;01mnot\u001b[39;00m \u001b[38;5;28mself\u001b[39m\u001b[38;5;241m.\u001b[39m_allow_stdin:\n\u001b[0;32m   1172\u001b[0m     \u001b[38;5;28;01mraise\u001b[39;00m StdinNotImplementedError(\n\u001b[0;32m   1173\u001b[0m         \u001b[38;5;124m\"\u001b[39m\u001b[38;5;124mraw_input was called, but this frontend does not support input requests.\u001b[39m\u001b[38;5;124m\"\u001b[39m\n\u001b[0;32m   1174\u001b[0m     )\n\u001b[1;32m-> 1175\u001b[0m \u001b[38;5;28;01mreturn\u001b[39;00m \u001b[38;5;28;43mself\u001b[39;49m\u001b[38;5;241;43m.\u001b[39;49m\u001b[43m_input_request\u001b[49m\u001b[43m(\u001b[49m\n\u001b[0;32m   1176\u001b[0m \u001b[43m    \u001b[49m\u001b[38;5;28;43mstr\u001b[39;49m\u001b[43m(\u001b[49m\u001b[43mprompt\u001b[49m\u001b[43m)\u001b[49m\u001b[43m,\u001b[49m\n\u001b[0;32m   1177\u001b[0m \u001b[43m    \u001b[49m\u001b[38;5;28;43mself\u001b[39;49m\u001b[38;5;241;43m.\u001b[39;49m\u001b[43m_parent_ident\u001b[49m\u001b[43m[\u001b[49m\u001b[38;5;124;43m\"\u001b[39;49m\u001b[38;5;124;43mshell\u001b[39;49m\u001b[38;5;124;43m\"\u001b[39;49m\u001b[43m]\u001b[49m\u001b[43m,\u001b[49m\n\u001b[0;32m   1178\u001b[0m \u001b[43m    \u001b[49m\u001b[38;5;28;43mself\u001b[39;49m\u001b[38;5;241;43m.\u001b[39;49m\u001b[43mget_parent\u001b[49m\u001b[43m(\u001b[49m\u001b[38;5;124;43m\"\u001b[39;49m\u001b[38;5;124;43mshell\u001b[39;49m\u001b[38;5;124;43m\"\u001b[39;49m\u001b[43m)\u001b[49m\u001b[43m,\u001b[49m\n\u001b[0;32m   1179\u001b[0m \u001b[43m    \u001b[49m\u001b[43mpassword\u001b[49m\u001b[38;5;241;43m=\u001b[39;49m\u001b[38;5;28;43;01mFalse\u001b[39;49;00m\u001b[43m,\u001b[49m\n\u001b[0;32m   1180\u001b[0m \u001b[43m\u001b[49m\u001b[43m)\u001b[49m\n",
      "File \u001b[1;32m~\\anaconda3\\lib\\site-packages\\ipykernel\\kernelbase.py:1217\u001b[0m, in \u001b[0;36mKernel._input_request\u001b[1;34m(self, prompt, ident, parent, password)\u001b[0m\n\u001b[0;32m   1214\u001b[0m             \u001b[38;5;28;01mbreak\u001b[39;00m\n\u001b[0;32m   1215\u001b[0m \u001b[38;5;28;01mexcept\u001b[39;00m \u001b[38;5;167;01mKeyboardInterrupt\u001b[39;00m:\n\u001b[0;32m   1216\u001b[0m     \u001b[38;5;66;03m# re-raise KeyboardInterrupt, to truncate traceback\u001b[39;00m\n\u001b[1;32m-> 1217\u001b[0m     \u001b[38;5;28;01mraise\u001b[39;00m \u001b[38;5;167;01mKeyboardInterrupt\u001b[39;00m(\u001b[38;5;124m\"\u001b[39m\u001b[38;5;124mInterrupted by user\u001b[39m\u001b[38;5;124m\"\u001b[39m) \u001b[38;5;28;01mfrom\u001b[39;00m \u001b[38;5;28mNone\u001b[39m\n\u001b[0;32m   1218\u001b[0m \u001b[38;5;28;01mexcept\u001b[39;00m \u001b[38;5;167;01mException\u001b[39;00m:\n\u001b[0;32m   1219\u001b[0m     \u001b[38;5;28mself\u001b[39m\u001b[38;5;241m.\u001b[39mlog\u001b[38;5;241m.\u001b[39mwarning(\u001b[38;5;124m\"\u001b[39m\u001b[38;5;124mInvalid Message:\u001b[39m\u001b[38;5;124m\"\u001b[39m, exc_info\u001b[38;5;241m=\u001b[39m\u001b[38;5;28;01mTrue\u001b[39;00m)\n",
      "\u001b[1;31mKeyboardInterrupt\u001b[0m: Interrupted by user"
     ]
    }
   ],
   "source": [
    "# use the function\n",
    "\n",
    "singapore_populasi = 5.85\n",
    "singapore_area = 700 \n",
    "\n",
    "print (\"diketahui : populasi singapura\", singapore_populasi * 1000000, \"juta\", \"dan luas daerah \", singapore_area, \"km^2\")\n",
    "\n",
    "density_s = singapore_populasi * 1000000 / singapore_area\n",
    "\n",
    "print(density_s)\n",
    "\n",
    "\n",
    "\n",
    "pop_hongkong = float(input(\"Masukkan jumlah populasi masyarakat Hong Kong: \"))\n",
    "area_hongkong = float(input(\"Masukkan jumlah luas area Hong Kong (KM^2): \"))\n",
    "\n",
    "def density_hongkong(pop_hongkong, area_hongkong):\n",
    "    density_hk = pop_hongkong * 1000000 / area_hongkong\n",
    "    return density_hk\n",
    "\n",
    "density_hk = density_hongkong(pop_hongkong, area_hongkong)\n",
    "\n",
    "print(\"Kepadatan penduduk Hong Kong adalah:\", density_hk, \"orang per KM^2\")\n",
    "\n",
    "\n",
    "# compare hk vs sg population density \n",
    "\n",
    "if density_hk > density_s:\n",
    "    print(\"Kepadatan penduduk Hongkong lebih tinggi daripada Singapura.\")\n",
    "elif density_hk < density_s:\n",
    "    print(\"Kepadatan penduduk Singapura lebih tinggi daripada Hongkong.\")\n",
    "else:\n",
    "    print(\"Kepadatan penduduk Hongkong dan Singapura sama.\")\n"
   ]
  },
  {
   "cell_type": "markdown",
   "id": "cc1768c5",
   "metadata": {},
   "source": [
    "Q8. Let's add another area to compare: Macao's population is 0.65 million in a land area of 30 sq km. Find out whether Singapore's population density is higher than BOTH Hong Kong and Macao."
   ]
  },
  {
   "cell_type": "code",
   "execution_count": null,
   "id": "55aeec5c",
   "metadata": {},
   "outputs": [
    {
     "name": "stdout",
     "output_type": "stream",
     "text": [
      "diketahui : populasi macao 650000.0 juta dan luas daerah  30 km^2\n",
      "Kepadatan penduduk Singapura 8357.142857142857\n",
      "Kepadatan penduduk Macao 21666.666666666668\n"
     ]
    }
   ],
   "source": [
    "# Calculate Macao's density (use the function!)\n",
    "\n",
    "macao_populasi = 0.65\n",
    "macao_area = 30\n",
    "\n",
    "print (\"diketahui : populasi macao\", macao_populasi * 1000000, \"juta\", \"dan luas daerah \", macao_area, \"km^2\")\n",
    "\n",
    "density_macao = macao_populasi * 1000000 / macao_area\n",
    "\n",
    "print(\"Kepadatan penduduk Singapura\", density_s)\n",
    "print(\"Kepadatan penduduk Macao\",density_macao)\n",
    "\n",
    "\n",
    "pop_hongkong = float(input(\"Masukkan jumlah populasi masyarakat Hong Kong: \"))\n",
    "area_hongkong = float(input(\"Masukkan jumlah luas area Hong Kong (KM^2): \"))\n",
    "\n",
    "def density_hongkong(pop_hongkong, area_hongkong):\n",
    "    density_hk = pop_hongkong * 1000000 / area_hongkong\n",
    "    return density_hk\n",
    "\n",
    "density_hk = density_hongkong(pop_hongkong, area_hongkong)\n",
    "\n",
    "print(\"Kepadatan penduduk Hong Kong adalah:\", density_hk, \"orang per KM^2\")\n",
    "\n",
    "def combain(density_macao, density_hk):\n",
    "    kombinasi = density_macao + density_hk\n",
    "    return kombinasi\n",
    "\n",
    "kombinasi = combain(density_macao, density_hk)\n",
    "print(\"Gabungan kepadatan Hongkong dan Macao adalah:\", kombinasi, \"orang per KM^2\")\n",
    "\n",
    "# Singapore's population density is higher than both Hong Kong AND Macao\n",
    "\n",
    "if kombinasi > density_s:\n",
    "    print(\"Kepadatan penduduk Hongkong lebih tinggi daripada Singapura.\")\n",
    "elif kombinasi < density_s:\n",
    "    print(\"Kepadatan penduduk Singapura lebih tinggi daripada Hongkong.\")\n",
    "else:\n",
    "    print(\"Kepadatan penduduk Hongkong dan Singapura sama.\")\n",
    "\n",
    "\n"
   ]
  },
  {
   "cell_type": "markdown",
   "id": "66b284ff",
   "metadata": {},
   "source": [
    "Q9. Write a function called compare_density() that receives two arguments representing the population densities of two areas. The function will compare the two values and print one of the following strings:\n",
    "- “Area 1 has higher density”\n",
    "- “Area 2 has higher density”\n",
    "- “Both areas have the same density”"
   ]
  },
  {
   "cell_type": "code",
   "execution_count": null,
   "id": "63351d63",
   "metadata": {},
   "outputs": [],
   "source": [
    "# Write the function\n",
    "\n",
    "def compare_density(density1, density2):\n",
    "    if density1 > density2:\n",
    "        print(\"Area 1 memiliki kepadatan yang lebih tinggi\")\n",
    "    elif density2 > density1:\n",
    "        print(\"Area 2 memiliki kepadatan yang lebih tinggi\")\n",
    "    else:\n",
    "        print(\"Kedua area memiliki kepadatan yang sama\")\n",
    "\n"
   ]
  },
  {
   "cell_type": "markdown",
   "id": "0e7c4ab1",
   "metadata": {},
   "source": [
    "Then we can test the function by passing the values of `sg_density` and `hk_density` as arguments."
   ]
  },
  {
   "cell_type": "code",
   "execution_count": null,
   "id": "6f1a4362",
   "metadata": {},
   "outputs": [],
   "source": [
    "sg_density = 2000\n",
    "hk_density = 400\n",
    "compare_density(sg_density, hk_density)"
   ]
  },
  {
   "cell_type": "markdown",
   "id": "49fae04b",
   "metadata": {},
   "source": [
    "Q10. What will be the result of the following loop?\n",
    "\n",
    "```\n",
    "for year in range(2022, 2031, 2):\n",
    "    print(year)\n",
    "```"
   ]
  },
  {
   "cell_type": "code",
   "execution_count": null,
   "id": "48ab8047",
   "metadata": {},
   "outputs": [],
   "source": [
    "# Type in the code for the loop given above and execute to check your answer\n",
    "\n",
    "for year in range(2022, 2031, 2):\n",
    "    print(year)\n",
    "    \n",
    "#jawaban : di dalam perulangan diatas memiliki 3 variabel atau 3 parameter. parameter pertama merupakan start atau mulai, \n",
    "#parameter kedua adalah finish perulangannya, \n",
    "#dan yang terakhir merupakan parameter increment"
   ]
  },
  {
   "cell_type": "markdown",
   "id": "359280f1",
   "metadata": {},
   "source": [
    "Q.11 Write a function projected_population() that receives three arguments:\n",
    "- Current population, in millions\n",
    "- Growth rate\n",
    "- Current year\n"
   ]
  },
  {
   "cell_type": "markdown",
   "id": "43b00110",
   "metadata": {},
   "source": [
    "The function should:\n",
    "- set the projected population to the current population\n",
    "- set the projected year to the current year\n",
    "- calculate the difference between the projected population and current population\n",
    "\n",
    "while the difference is between -1 and 1:\n",
    "1. print the projected year and the projected population\n",
    "2. calculate the projected population = projected population + projected population * growth rate / 100\n",
    "3. update the projected year \n",
    "4. recalculate the difference between the projected propulation and current population"
   ]
  },
  {
   "cell_type": "code",
   "execution_count": null,
   "id": "8e62f54e",
   "metadata": {},
   "outputs": [],
   "source": [
    "def projected_population(current_pop, growth_rate, current_year):\n",
    "    # complete the function according to the guide\n",
    "    populasi_proyeksi = current_pop\n",
    "    tahun_proyeksi = current_year\n",
    "     \n",
    "    while -1 < abs(populasi_proyeksi - current_pop) < 1:\n",
    "        print(f\"Tahun {tahun_proyeksi}: Proyeksi Populasi {populasi_proyeksi} juta\")\n",
    "        populasi_proyeksi += populasi_proyeksi * (growth_rate / 100)\n",
    "        tahun_proyeksi += 1"
   ]
  },
  {
   "cell_type": "code",
   "execution_count": null,
   "id": "35c3f670",
   "metadata": {},
   "outputs": [],
   "source": [
    "# testing with Thailand\n",
    "print(\"Thailand's population growth\")\n",
    "projected_population(current_pop = 69.8, growth_rate = 0.3, current_year = 2020)"
   ]
  },
  {
   "cell_type": "markdown",
   "id": "09df059d",
   "metadata": {},
   "source": [
    "Q.12 Write a function called `string_info()` which takes in a string argument and returns four values:\n",
    "- the first 3 characters\n",
    "- last 3 characters\n",
    "- the number of characters in the string\n",
    "- the string with each word capitalized"
   ]
  },
  {
   "cell_type": "code",
   "execution_count": null,
   "id": "254d3e0c",
   "metadata": {},
   "outputs": [],
   "source": [
    "def string_info(word): \n",
    "    # complete the function\n",
    "    start = word[:3]\n",
    "    end = word[-3:]\n",
    "    num = len(word)\n",
    "    title = word.title()\n",
    "    return start, end, num, title"
   ]
  },
  {
   "cell_type": "code",
   "execution_count": null,
   "id": "5858639b",
   "metadata": {},
   "outputs": [],
   "source": [
    "#calling the function\n",
    "start, end, num, title = string_info(\"data science\")\n"
   ]
  },
  {
   "cell_type": "code",
   "execution_count": null,
   "id": "f286a42c",
   "metadata": {},
   "outputs": [],
   "source": [
    "# print what's returned\n",
    "print(\"3 Karakter Pertama:\", start)\n",
    "print(\"3 Karakter Terakhir:\", end)\n",
    "print(\"Panjang Karakter:\", num)\n",
    "print(\"Kata Kapital:\", title)"
   ]
  },
  {
   "cell_type": "markdown",
   "id": "f33e1677",
   "metadata": {},
   "source": [
    "# Congratulations! \n",
    "\n",
    "You have reached the end of this notebook! Hope you have been able to practice and review the fundamental concepts in Python coding and we will do more next week!"
   ]
  }
 ],
 "metadata": {
  "kernelspec": {
   "display_name": "Python 3 (ipykernel)",
   "language": "python",
   "name": "python3"
  },
  "language_info": {
   "codemirror_mode": {
    "name": "ipython",
    "version": 3
   },
   "file_extension": ".py",
   "mimetype": "text/x-python",
   "name": "python",
   "nbconvert_exporter": "python",
   "pygments_lexer": "ipython3",
   "version": "3.10.9"
  }
 },
 "nbformat": 4,
 "nbformat_minor": 5
}
